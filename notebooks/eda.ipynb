{
 "cells": [
  {
   "cell_type": "code",
   "execution_count": null,
   "id": "e7a98810",
   "metadata": {},
   "outputs": [],
   "source": [
    "# eda.ipynb\n",
    "\n",
    "import pandas as pd\n",
    "import matplotlib.pyplot as plt\n",
    "import seaborn as sns\n",
    "\n",
    "CLEAN_PATH = '../data/processed/water_quality_cleaned.csv'\n",
    "df = pd.read_csv(CLEAN_PATH)\n",
    "\n",
    "# Basic info\n",
    "print(df.info())\n",
    "print(df.describe())\n",
    "\n",
    "# Example plots\n",
    "sns.heatmap(df.corr(numeric_only=True), annot=True, cmap='coolwarm')\n",
    "plt.title('Correlation Matrix')\n",
    "plt.show()\n",
    "\n",
    "sns.boxplot(data=df[['pH', 'Ammonia Nitrogen (mg/L)', 'Total Nitrogen (mg/L)']])\n",
    "plt.title('Boxplots of Key Parameters')\n",
    "plt.xticks(rotation=45)\n",
    "plt.show()\n"
   ]
  }
 ],
 "metadata": {
  "language_info": {
   "name": "python"
  }
 },
 "nbformat": 4,
 "nbformat_minor": 5
}
